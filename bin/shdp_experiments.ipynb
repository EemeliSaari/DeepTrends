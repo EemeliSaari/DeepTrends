{
 "cells": [
  {
   "cell_type": "markdown",
   "metadata": {},
   "source": [
    "# Exploring the sHDP\n",
    "\n",
    "This notebook contains some of the experiments of the sHDP implementation by [Ardavans](https://github.com/Ardavans).\n",
    "\n",
    "**Author:** Eemeli Saari\n",
    "\n",
    "**Created:** 10.3.2019\n",
    "\n",
    "**Edited:** 17.3.2019\n",
    "\n",
    "---"
   ]
  },
  {
   "cell_type": "code",
   "execution_count": 1,
   "metadata": {},
   "outputs": [],
   "source": [
    "import sys\n",
    "import os"
   ]
  },
  {
   "cell_type": "code",
   "execution_count": 2,
   "metadata": {},
   "outputs": [],
   "source": [
    "import numpy as np\n",
    "import pandas as pd"
   ]
  },
  {
   "cell_type": "code",
   "execution_count": 3,
   "metadata": {},
   "outputs": [],
   "source": [
    "%load_ext autoreload\n",
    "%autoreload 2"
   ]
  },
  {
   "cell_type": "code",
   "execution_count": 4,
   "metadata": {},
   "outputs": [],
   "source": [
    "sys.path.append('../detector/sHDP')\n",
    "sys.path.append('../detector/')"
   ]
  },
  {
   "cell_type": "markdown",
   "metadata": {},
   "source": [
    "Here we're trying to cipher the functionality of the [sHDP](https://github.com/Ardavans/sHDP) Python code"
   ]
  },
  {
   "cell_type": "code",
   "execution_count": 5,
   "metadata": {},
   "outputs": [],
   "source": [
    "from HDP import models\n",
    "from corpora import Corpora\n",
    "from fetcher.nips_fetcher import NIPSFetcher"
   ]
  },
  {
   "cell_type": "code",
   "execution_count": 6,
   "metadata": {},
   "outputs": [],
   "source": [
    "data_path = '../data/parsed/'"
   ]
  },
  {
   "cell_type": "code",
   "execution_count": 7,
   "metadata": {},
   "outputs": [],
   "source": [
    "tokens = [t for t, N in Corpora(data_path, parsing='simple').build().tokenize()]"
   ]
  },
  {
   "cell_type": "code",
   "execution_count": 8,
   "metadata": {},
   "outputs": [],
   "source": [
    "N_DOCS = len(tokens)"
   ]
  },
  {
   "cell_type": "code",
   "execution_count": 9,
   "metadata": {},
   "outputs": [
    {
     "data": {
      "text/plain": [
       "152"
      ]
     },
     "execution_count": 9,
     "metadata": {},
     "output_type": "execute_result"
    }
   ],
   "source": [
    "N_DOCS"
   ]
  },
  {
   "cell_type": "markdown",
   "metadata": {},
   "source": [
    "Model takes in some von Mises-Fisher components that need to be initialized."
   ]
  },
  {
   "cell_type": "code",
   "execution_count": 10,
   "metadata": {},
   "outputs": [],
   "source": [
    "from core.core_distributions import vonMisesFisherLogNormal"
   ]
  },
  {
   "cell_type": "code",
   "execution_count": 11,
   "metadata": {},
   "outputs": [
    {
     "name": "stderr",
     "output_type": "stream",
     "text": [
      "C:\\Users\\eemsaa\\Documents\\GitHub\\KeyTopicDetection\\detector\\sHDP\\core\\util\\stats.py:152: UserWarning: Not sure about sampling vMF, use with caution!!!! \n",
      "  warn('Not sure about sampling vMF, use with caution!!!! ')\n"
     ]
    },
    {
     "name": "stdout",
     "output_type": "stream",
     "text": [
      "Wall time: 847 ms\n"
     ]
    }
   ],
   "source": [
    "np.random.seed(42)\n",
    "num_dim = 50\n",
    "K = 40\n",
    "\n",
    "d = np.random.rand(num_dim,)\n",
    "d = d/np.linalg.norm(d)\n",
    "obs_hypparams = dict(mu_0=d,C_0=1,m_0=2,sigma_0=0.25)\n",
    "%time components=[vonMisesFisherLogNormal(**obs_hypparams) for itr in range(K)]"
   ]
  },
  {
   "cell_type": "markdown",
   "metadata": {},
   "source": [
    "The von Mishes-Fisher initializer causes modern numpy to error so need change\n",
    "\n",
    "sHDP/core/core_distributions.py\n",
    "```python\n",
    "241         if (mu,kappa) == (None,None) and None not in (mu_0.any(),C_0,m_0,sigma_0):\n",
    "```"
   ]
  },
  {
   "cell_type": "markdown",
   "metadata": {},
   "source": [
    "Also some parameters are tuned here."
   ]
  },
  {
   "cell_type": "code",
   "execution_count": 12,
   "metadata": {},
   "outputs": [],
   "source": [
    "hdp = models.HDP(alpha=1, gamma=2, obs_distns=components, num_docs=N_DOCS+1)"
   ]
  },
  {
   "cell_type": "markdown",
   "metadata": {},
   "source": [
    "The data how ever that is fed up to the model is in pickled format which causes two issues:\n",
    "\n",
    "1. You should not open any 3rd party pickle files on your computer.\n",
    "2. The environment might cause some issues.\n",
    "\n",
    "But since I'll need to find out what the data looks like:"
   ]
  },
  {
   "cell_type": "code",
   "execution_count": 13,
   "metadata": {},
   "outputs": [],
   "source": [
    "import pickle"
   ]
  },
  {
   "cell_type": "code",
   "execution_count": 14,
   "metadata": {},
   "outputs": [
    {
     "ename": "UnpicklingError",
     "evalue": "the STRING opcode argument must be quoted",
     "output_type": "error",
     "traceback": [
      "\u001b[1;31m---------------------------------------------------------------------------\u001b[0m",
      "\u001b[1;31mUnpicklingError\u001b[0m                           Traceback (most recent call last)",
      "\u001b[1;32m<ipython-input-14-765cab705a99>\u001b[0m in \u001b[0;36m<module>\u001b[1;34m\u001b[0m\n\u001b[0;32m      1\u001b[0m \u001b[1;32mwith\u001b[0m \u001b[0mopen\u001b[0m\u001b[1;33m(\u001b[0m\u001b[1;34m'../detector/sHDP/data/nips/texts.pk'\u001b[0m\u001b[1;33m,\u001b[0m \u001b[1;34m'rb'\u001b[0m\u001b[1;33m)\u001b[0m \u001b[1;32mas\u001b[0m \u001b[0mf\u001b[0m\u001b[1;33m:\u001b[0m\u001b[1;33m\u001b[0m\u001b[1;33m\u001b[0m\u001b[0m\n\u001b[1;32m----> 2\u001b[1;33m     \u001b[0mtexts\u001b[0m \u001b[1;33m=\u001b[0m \u001b[0mpickle\u001b[0m\u001b[1;33m.\u001b[0m\u001b[0mload\u001b[0m\u001b[1;33m(\u001b[0m\u001b[0mf\u001b[0m\u001b[1;33m)\u001b[0m\u001b[1;33m\u001b[0m\u001b[1;33m\u001b[0m\u001b[0m\n\u001b[0m",
      "\u001b[1;31mUnpicklingError\u001b[0m: the STRING opcode argument must be quoted"
     ]
    }
   ],
   "source": [
    "with open('../detector/sHDP/data/nips/texts.pk', 'rb') as f:\n",
    "    texts = pickle.load(f)"
   ]
  },
  {
   "cell_type": "markdown",
   "metadata": {},
   "source": [
    "And it seems that the problem is the 2nd one meaning that the pickle was made in Ubuntu.\n",
    "\n",
    "> Using VM Ubuntu 18.04 I was able to open the content.\n",
    "\n",
    "The texts.pk and wordvec.pk content is easily understandable BOW format of the given text document and word vector dictionary."
   ]
  },
  {
   "cell_type": "markdown",
   "metadata": {},
   "source": [
    "## Tokens2bow"
   ]
  },
  {
   "cell_type": "code",
   "execution_count": 15,
   "metadata": {},
   "outputs": [],
   "source": [
    "from gensim.corpora.dictionary import Dictionary"
   ]
  },
  {
   "cell_type": "code",
   "execution_count": 16,
   "metadata": {},
   "outputs": [],
   "source": [
    "dictionary = Dictionary(tokens)"
   ]
  },
  {
   "cell_type": "code",
   "execution_count": 32,
   "metadata": {},
   "outputs": [],
   "source": [
    "bow = [dictionary.doc2bow(d) for d in tokens]"
   ]
  },
  {
   "cell_type": "markdown",
   "metadata": {},
   "source": [
    "## Word embeddings"
   ]
  },
  {
   "cell_type": "code",
   "execution_count": 18,
   "metadata": {},
   "outputs": [],
   "source": [
    "from gensim.models.word2vec import Word2Vec"
   ]
  },
  {
   "cell_type": "markdown",
   "metadata": {},
   "source": [
    "> **NOTE:** The size should match the num_dim parameter with sHDP"
   ]
  },
  {
   "cell_type": "code",
   "execution_count": 19,
   "metadata": {},
   "outputs": [
    {
     "name": "stderr",
     "output_type": "stream",
     "text": [
      "WARNING:gensim.models.base_any2vec:consider setting layer size to a multiple of 4 for greater performance\n"
     ]
    },
    {
     "name": "stdout",
     "output_type": "stream",
     "text": [
      "Wall time: 2.31 s\n"
     ]
    }
   ],
   "source": [
    "%time embedding_model = Word2Vec(tokens, size=50, window=5, min_count=1, workers=4)"
   ]
  },
  {
   "cell_type": "code",
   "execution_count": 20,
   "metadata": {},
   "outputs": [
    {
     "data": {
      "text/plain": [
       "50"
      ]
     },
     "execution_count": 20,
     "metadata": {},
     "output_type": "execute_result"
    }
   ],
   "source": [
    "embedding_model.vector_size"
   ]
  },
  {
   "cell_type": "code",
   "execution_count": 21,
   "metadata": {},
   "outputs": [
    {
     "name": "stderr",
     "output_type": "stream",
     "text": [
      "WARNING:gensim.models.base_any2vec:Effective 'alpha' higher than previous training cycles\n"
     ]
    },
    {
     "name": "stdout",
     "output_type": "stream",
     "text": [
      "Wall time: 32.7 s\n"
     ]
    },
    {
     "data": {
      "text/plain": [
       "(21705993, 22110900)"
      ]
     },
     "execution_count": 21,
     "metadata": {},
     "output_type": "execute_result"
    }
   ],
   "source": [
    "%time embedding_model.train(tokens, epochs=100, total_examples=len(tokens),)"
   ]
  },
  {
   "cell_type": "markdown",
   "metadata": {},
   "source": [
    "The authors of sHDP reported that they used normalized word vectors to train the model."
   ]
  },
  {
   "cell_type": "code",
   "execution_count": 22,
   "metadata": {},
   "outputs": [],
   "source": [
    "embeddings = np.empty((len(embedding_model.wv.vocab), 50))"
   ]
  },
  {
   "cell_type": "code",
   "execution_count": 23,
   "metadata": {},
   "outputs": [
    {
     "data": {
      "text/plain": [
       "(17885, 50)"
      ]
     },
     "execution_count": 23,
     "metadata": {},
     "output_type": "execute_result"
    }
   ],
   "source": [
    "embeddings.shape"
   ]
  },
  {
   "cell_type": "code",
   "execution_count": 24,
   "metadata": {},
   "outputs": [
    {
     "data": {
      "text/plain": [
       "17885"
      ]
     },
     "execution_count": 24,
     "metadata": {},
     "output_type": "execute_result"
    }
   ],
   "source": [
    "len(dictionary)"
   ]
  },
  {
   "cell_type": "code",
   "execution_count": 25,
   "metadata": {},
   "outputs": [
    {
     "data": {
      "text/plain": [
       "'ability'"
      ]
     },
     "execution_count": 25,
     "metadata": {},
     "output_type": "execute_result"
    }
   ],
   "source": [
    "dictionary[0]"
   ]
  },
  {
   "cell_type": "code",
   "execution_count": 26,
   "metadata": {},
   "outputs": [],
   "source": [
    "for i in range(embeddings.shape[0]):\n",
    "    assert dictionary[i] in embedding_model.wv.vocab\n",
    "    embeddings[i, :] = embedding_model.wv[dictionary.id2token[i]]"
   ]
  },
  {
   "cell_type": "code",
   "execution_count": 27,
   "metadata": {},
   "outputs": [],
   "source": [
    "from sklearn.preprocessing import normalize"
   ]
  },
  {
   "cell_type": "code",
   "execution_count": 28,
   "metadata": {},
   "outputs": [],
   "source": [
    "normalized = normalize(embeddings, norm='l2', axis=1)"
   ]
  },
  {
   "cell_type": "code",
   "execution_count": 29,
   "metadata": {},
   "outputs": [],
   "source": [
    "vectors_dict = {i:normalized[i, :] for i in range(embeddings.shape[0])}"
   ]
  },
  {
   "cell_type": "markdown",
   "metadata": {},
   "source": [
    "The authors introduced these two functions to glovize the date"
   ]
  },
  {
   "cell_type": "code",
   "execution_count": 30,
   "metadata": {},
   "outputs": [],
   "source": [
    "def glovize_data_wo_count(list_of_texts):\n",
    "    all_data = []\n",
    "    all_avail_words = []\n",
    "    for text in list_of_texts:\n",
    "        temp_list = []\n",
    "        temp_list_words = []\n",
    "        for word in text:\n",
    "            try:\n",
    "                temp_list.append((np.array(vectors_dict[word[0]]), word[1]))\n",
    "                temp_list_words.append(word[0])\n",
    "            except:\n",
    "                pass\n",
    "        all_data.append(np.array(temp_list))\n",
    "        all_avail_words.append(np.array(temp_list_words))\n",
    "    return all_data, all_avail_words"
   ]
  },
  {
   "cell_type": "markdown",
   "metadata": {},
   "source": [
    "That both basically convert the bag-of-words word reprsentation to vector-of-words representation of numpy arrays for each document."
   ]
  },
  {
   "cell_type": "code",
   "execution_count": 33,
   "metadata": {},
   "outputs": [],
   "source": [
    "temp2, temp_words = glovize_data_wo_count(bow)"
   ]
  },
  {
   "cell_type": "markdown",
   "metadata": {},
   "source": [
    "But they both essentially do the same thing."
   ]
  },
  {
   "cell_type": "code",
   "execution_count": 34,
   "metadata": {},
   "outputs": [],
   "source": [
    "temp2 = list(zip(temp2, range(len(temp2))))"
   ]
  },
  {
   "cell_type": "code",
   "execution_count": 35,
   "metadata": {},
   "outputs": [],
   "source": [
    "real_data = temp2[:]"
   ]
  },
  {
   "cell_type": "code",
   "execution_count": 36,
   "metadata": {},
   "outputs": [],
   "source": [
    "num_docs = len(real_data)"
   ]
  },
  {
   "cell_type": "code",
   "execution_count": 37,
   "metadata": {},
   "outputs": [
    {
     "data": {
      "text/plain": [
       "152"
      ]
     },
     "execution_count": 37,
     "metadata": {},
     "output_type": "execute_result"
    }
   ],
   "source": [
    "len(temp_words)"
   ]
  },
  {
   "cell_type": "code",
   "execution_count": 38,
   "metadata": {},
   "outputs": [],
   "source": [
    "vocabulary = np.unique([j for i in temp_words for j in i])"
   ]
  },
  {
   "cell_type": "code",
   "execution_count": 39,
   "metadata": {},
   "outputs": [
    {
     "data": {
      "text/plain": [
       "array([    0,     1,     2, ..., 17882, 17883, 17884])"
      ]
     },
     "execution_count": 39,
     "metadata": {},
     "output_type": "execute_result"
    }
   ],
   "source": [
    "vocabulary"
   ]
  },
  {
   "cell_type": "code",
   "execution_count": 40,
   "metadata": {},
   "outputs": [],
   "source": [
    "training_size = num_docs"
   ]
  },
  {
   "cell_type": "markdown",
   "metadata": {},
   "source": [
    "## Training\n",
    "\n",
    "Now we can start the training"
   ]
  },
  {
   "cell_type": "code",
   "execution_count": 41,
   "metadata": {},
   "outputs": [],
   "source": [
    "from HDP.util.general import sgd_passes\n",
    "from HDP.util.text import progprint"
   ]
  },
  {
   "cell_type": "code",
   "execution_count": 42,
   "metadata": {},
   "outputs": [],
   "source": [
    "sgdseq = sgd_passes(tau=0.8, kappa=0.6, datalist=real_data, minibatchsize=1, npasses= 5)"
   ]
  },
  {
   "cell_type": "code",
   "execution_count": 43,
   "metadata": {
    "scrolled": true
   },
   "outputs": [
    {
     "name": "stderr",
     "output_type": "stream",
     "text": [
      "../detector/sHDP\\core\\core_distributions.py:184: UserWarning: switching to asymptotic regime for the infinity values !\n",
      "  warn('switching to asymptotic regime for the infinity values !')\n",
      "../detector/sHDP\\core\\core_distributions.py:298: UserWarning: switching to asymptotic  !\n",
      "  warn( \"switching to asymptotic  !\")\n"
     ]
    }
   ],
   "source": [
    "for t, (data, rho_t) in enumerate(sgdseq):\n",
    "    hdp.meanfield_sgdstep(data, np.array(data).shape[0] / np.float(training_size), rho_t)"
   ]
  },
  {
   "cell_type": "markdown",
   "metadata": {},
   "source": [
    "## Fetching the topics"
   ]
  },
  {
   "cell_type": "markdown",
   "metadata": {},
   "source": [
    "This for loop fetches the most likely topics for each document.\n",
    "\n",
    "It can be done with a simple function like:"
   ]
  },
  {
   "cell_type": "code",
   "execution_count": 44,
   "metadata": {},
   "outputs": [],
   "source": [
    "def get_document_topics(docs):\n",
    "    topic_dist = np.empty((len(docs), hdp.num_states))\n",
    "    for i in range(topic_dist.shape[0]):\n",
    "        hdp.add_data(np.atleast_2d(docs[i][0].squeeze()), i)\n",
    "        hdp.states_list[-1].meanfieldupdate()\n",
    "        topic_dist[i, :] = np.average(hdp.states_list[-1].all_expected_stats[0], 0)\n",
    "    return topic_dist"
   ]
  },
  {
   "cell_type": "code",
   "execution_count": 45,
   "metadata": {},
   "outputs": [],
   "source": [
    "topics_dists = get_document_topics(real_data)"
   ]
  },
  {
   "cell_type": "code",
   "execution_count": 46,
   "metadata": {},
   "outputs": [
    {
     "data": {
      "text/plain": [
       "array([0.00892775, 0.10932336, 0.02228781, 0.02622762, 0.02228876,\n",
       "       0.02212143, 0.03366265, 0.03098405, 0.02443416, 0.02526739,\n",
       "       0.02518859, 0.10205241, 0.03352392, 0.02284536, 0.06204624,\n",
       "       0.03167989, 0.02544134, 0.05000612, 0.02638785, 0.12186743,\n",
       "       0.29719023, 0.02682555, 0.09764545, 0.03094743, 0.02744535,\n",
       "       0.02518859, 0.02777324, 0.02239907, 0.03186421, 0.65822195,\n",
       "       0.02772826, 0.02593813, 0.09588956, 0.09704011, 0.02232794,\n",
       "       0.07786099, 0.0234414 , 0.03127612, 0.01015228, 0.02624759])"
      ]
     },
     "execution_count": 46,
     "metadata": {},
     "output_type": "execute_result"
    }
   ],
   "source": [
    "topics_dists.max(axis=0)"
   ]
  },
  {
   "cell_type": "code",
   "execution_count": 47,
   "metadata": {},
   "outputs": [
    {
     "data": {
      "text/plain": [
       "(40,)"
      ]
     },
     "execution_count": 47,
     "metadata": {},
     "output_type": "execute_result"
    }
   ],
   "source": [
    "(topics_dists.sum(axis=0)/len(real_data)).shape"
   ]
  },
  {
   "cell_type": "code",
   "execution_count": 48,
   "metadata": {},
   "outputs": [
    {
     "data": {
      "text/plain": [
       "152"
      ]
     },
     "execution_count": 48,
     "metadata": {},
     "output_type": "execute_result"
    }
   ],
   "source": [
    "topics_dists.shape[0]"
   ]
  },
  {
   "cell_type": "code",
   "execution_count": 49,
   "metadata": {},
   "outputs": [],
   "source": [
    "import matplotlib.pyplot as plt\n",
    "from matplotlib import style"
   ]
  },
  {
   "cell_type": "code",
   "execution_count": 50,
   "metadata": {},
   "outputs": [],
   "source": [
    "style.use('ggplot')"
   ]
  },
  {
   "cell_type": "code",
   "execution_count": 51,
   "metadata": {},
   "outputs": [],
   "source": [
    "topic_by_doc = topics_dists.sum(axis=0)/len(real_data)"
   ]
  },
  {
   "cell_type": "code",
   "execution_count": 52,
   "metadata": {},
   "outputs": [
    {
     "data": {
      "image/png": "[encoded data removed]",
      "text/plain": [
       "<Figure size 1440x216 with 1 Axes>"
      ]
     },
     "metadata": {},
     "output_type": "display_data"
    }
   ],
   "source": [
    "fig, ax = plt.subplots(figsize=(20,3))\n",
    "ax.bar(range(K), topic_by_doc, alpha=0.3)\n",
    "rects = ax.patches\n",
    "for i in np.argsort(topic_by_doc)[-5:]:\n",
    "    rects[i].set_alpha(1)"
   ]
  },
  {
   "cell_type": "markdown",
   "metadata": {},
   "source": [
    "Here it becomes clear that the topic words should be fetched using some easier method"
   ]
  },
  {
   "cell_type": "code",
   "execution_count": 53,
   "metadata": {},
   "outputs": [],
   "source": [
    "import collections"
   ]
  },
  {
   "cell_type": "code",
   "execution_count": 54,
   "metadata": {},
   "outputs": [],
   "source": [
    "def get_topic_words(docs, n_words=10):\n",
    "    topics_dict = {}\n",
    "    for i in range(hdp.num_states):\n",
    "        topics_dict[i] = collections.defaultdict(float)\n",
    "    for i, doc in enumerate(temp_words):\n",
    "        hdp.add_data(np.atleast_2d(docs[i][0].squeeze()), i)\n",
    "        hdp.states_list[-1].meanfieldupdate()\n",
    "        temp_exp = hdp.states_list[-1].all_expected_stats[0]\n",
    "        for idx, word_id in enumerate(doc):\n",
    "            for t in range(K):\n",
    "                topics_dict[t][word_id] += temp_exp[idx, t]\n",
    "    sorted_topic_words = []\n",
    "    for t in range(K):\n",
    "        sorted_topic_words.append([dictionary[k] for k in sorted(topics_dict[t], key=lambda x: topics_dict[t][x], reverse=True)[:n_words]])\n",
    "\n",
    "    return np.array(sorted_topic_words)"
   ]
  },
  {
   "cell_type": "code",
   "execution_count": 55,
   "metadata": {
    "scrolled": true
   },
   "outputs": [],
   "source": [
    "words_numpy = get_topic_words(real_data)"
   ]
  },
  {
   "cell_type": "code",
   "execution_count": 56,
   "metadata": {},
   "outputs": [],
   "source": [
    "import pandas as pd"
   ]
  },
  {
   "cell_type": "code",
   "execution_count": 57,
   "metadata": {},
   "outputs": [],
   "source": [
    "word_df = pd.DataFrame(words_numpy.T)"
   ]
  },
  {
   "cell_type": "code",
   "execution_count": 58,
   "metadata": {},
   "outputs": [
    {
     "data": {
      "text/html": [
       "<div>\n",
       "<style scoped>\n",
       "    .dataframe tbody tr th:only-of-type {\n",
       "        vertical-align: middle;\n",
       "    }\n",
       "\n",
       "    .dataframe tbody tr th {\n",
       "        vertical-align: top;\n",
       "    }\n",
       "\n",
       "    .dataframe thead th {\n",
       "        text-align: right;\n",
       "    }\n",
       "</style>\n",
       "<table border=\"1\" class=\"dataframe\">\n",
       "  <thead>\n",
       "    <tr style=\"text-align: right;\">\n",
       "      <th></th>\n",
       "      <th>0</th>\n",
       "      <th>1</th>\n",
       "      <th>2</th>\n",
       "      <th>3</th>\n",
       "      <th>4</th>\n",
       "      <th>5</th>\n",
       "      <th>6</th>\n",
       "      <th>7</th>\n",
       "      <th>8</th>\n",
       "      <th>9</th>\n",
       "      <th>...</th>\n",
       "      <th>30</th>\n",
       "      <th>31</th>\n",
       "      <th>32</th>\n",
       "      <th>33</th>\n",
       "      <th>34</th>\n",
       "      <th>35</th>\n",
       "      <th>36</th>\n",
       "      <th>37</th>\n",
       "      <th>38</th>\n",
       "      <th>39</th>\n",
       "    </tr>\n",
       "  </thead>\n",
       "  <tbody>\n",
       "    <tr>\n",
       "      <th>0</th>\n",
       "      <td>data</td>\n",
       "      <td>university</td>\n",
       "      <td>processing</td>\n",
       "      <td>et</td>\n",
       "      <td>processing</td>\n",
       "      <td>processing</td>\n",
       "      <td>neural</td>\n",
       "      <td>information</td>\n",
       "      <td>et</td>\n",
       "      <td>et</td>\n",
       "      <td>...</td>\n",
       "      <td>information</td>\n",
       "      <td>et</td>\n",
       "      <td>abstract</td>\n",
       "      <td>different</td>\n",
       "      <td>processing</td>\n",
       "      <td>research</td>\n",
       "      <td>processing</td>\n",
       "      <td>information</td>\n",
       "      <td>figure</td>\n",
       "      <td>et</td>\n",
       "    </tr>\n",
       "    <tr>\n",
       "      <th>1</th>\n",
       "      <td>model</td>\n",
       "      <td>press</td>\n",
       "      <td>computation</td>\n",
       "      <td>al</td>\n",
       "      <td>computation</td>\n",
       "      <td>computation</td>\n",
       "      <td>systems</td>\n",
       "      <td>space</td>\n",
       "      <td>al</td>\n",
       "      <td>al</td>\n",
       "      <td>...</td>\n",
       "      <td>non</td>\n",
       "      <td>al</td>\n",
       "      <td>computational</td>\n",
       "      <td>based</td>\n",
       "      <td>analysis</td>\n",
       "      <td>references</td>\n",
       "      <td>et</td>\n",
       "      <td>space</td>\n",
       "      <td>right</td>\n",
       "      <td>al</td>\n",
       "    </tr>\n",
       "    <tr>\n",
       "      <th>2</th>\n",
       "      <td>parameters</td>\n",
       "      <td>mit</td>\n",
       "      <td>technical</td>\n",
       "      <td>ii</td>\n",
       "      <td>technical</td>\n",
       "      <td>technical</td>\n",
       "      <td>theory</td>\n",
       "      <td>shows</td>\n",
       "      <td>supported</td>\n",
       "      <td>center</td>\n",
       "      <td>...</td>\n",
       "      <td>space</td>\n",
       "      <td>ii</td>\n",
       "      <td>statistics</td>\n",
       "      <td>new</td>\n",
       "      <td>computation</td>\n",
       "      <td>edu</td>\n",
       "      <td>al</td>\n",
       "      <td>optimal</td>\n",
       "      <td>left</td>\n",
       "      <td>supported</td>\n",
       "    </tr>\n",
       "    <tr>\n",
       "      <th>3</th>\n",
       "      <td>models</td>\n",
       "      <td>science</td>\n",
       "      <td>current</td>\n",
       "      <td>ai</td>\n",
       "      <td>current</td>\n",
       "      <td>current</td>\n",
       "      <td>machine</td>\n",
       "      <td>optimal</td>\n",
       "      <td>appear</td>\n",
       "      <td>ii</td>\n",
       "      <td>...</td>\n",
       "      <td>components</td>\n",
       "      <td>ai</td>\n",
       "      <td>computing</td>\n",
       "      <td>learning</td>\n",
       "      <td>information</td>\n",
       "      <td>institute</td>\n",
       "      <td>computation</td>\n",
       "      <td>shows</td>\n",
       "      <td>fig</td>\n",
       "      <td>consists</td>\n",
       "    </tr>\n",
       "    <tr>\n",
       "      <th>4</th>\n",
       "      <td>example</td>\n",
       "      <td>cambridge</td>\n",
       "      <td>et</td>\n",
       "      <td>consists</td>\n",
       "      <td>et</td>\n",
       "      <td>recognition</td>\n",
       "      <td>ieee</td>\n",
       "      <td>fixed</td>\n",
       "      <td>technical</td>\n",
       "      <td>consists</td>\n",
       "      <td>...</td>\n",
       "      <td>higher</td>\n",
       "      <td>consists</td>\n",
       "      <td>implementation</td>\n",
       "      <td>use</td>\n",
       "      <td>multiple</td>\n",
       "      <td>ac</td>\n",
       "      <td>supported</td>\n",
       "      <td>fixed</td>\n",
       "      <td>plot</td>\n",
       "      <td>ai</td>\n",
       "    </tr>\n",
       "    <tr>\n",
       "      <th>5</th>\n",
       "      <td>set</td>\n",
       "      <td>pages</td>\n",
       "      <td>appear</td>\n",
       "      <td>supported</td>\n",
       "      <td>appear</td>\n",
       "      <td>appear</td>\n",
       "      <td>proceedings</td>\n",
       "      <td>mean</td>\n",
       "      <td>consists</td>\n",
       "      <td>current</td>\n",
       "      <td>...</td>\n",
       "      <td>experiments</td>\n",
       "      <td>center</td>\n",
       "      <td>estimation</td>\n",
       "      <td>simple</td>\n",
       "      <td>low</td>\n",
       "      <td>technology</td>\n",
       "      <td>technical</td>\n",
       "      <td>mean</td>\n",
       "      <td>panel</td>\n",
       "      <td>ii</td>\n",
       "    </tr>\n",
       "    <tr>\n",
       "      <th>6</th>\n",
       "      <td>usually</td>\n",
       "      <td>ma</td>\n",
       "      <td>al</td>\n",
       "      <td>center</td>\n",
       "      <td>al</td>\n",
       "      <td>et</td>\n",
       "      <td>journal</td>\n",
       "      <td>matrix</td>\n",
       "      <td>computation</td>\n",
       "      <td>ai</td>\n",
       "      <td>...</td>\n",
       "      <td>high</td>\n",
       "      <td>supported</td>\n",
       "      <td>paper</td>\n",
       "      <td>general</td>\n",
       "      <td>recognition</td>\n",
       "      <td>thank</td>\n",
       "      <td>appear</td>\n",
       "      <td>matrix</td>\n",
       "      <td>plots</td>\n",
       "      <td>center</td>\n",
       "    </tr>\n",
       "    <tr>\n",
       "      <th>7</th>\n",
       "      <td>network</td>\n",
       "      <td>department</td>\n",
       "      <td>recognition</td>\n",
       "      <td>similarly</td>\n",
       "      <td>recognition</td>\n",
       "      <td>al</td>\n",
       "      <td>nature</td>\n",
       "      <td>non</td>\n",
       "      <td>provided</td>\n",
       "      <td>similarly</td>\n",
       "      <td>...</td>\n",
       "      <td>shows</td>\n",
       "      <td>similarly</td>\n",
       "      <td>optimization</td>\n",
       "      <td>similar</td>\n",
       "      <td>control</td>\n",
       "      <td>com</td>\n",
       "      <td>consists</td>\n",
       "      <td>independent</td>\n",
       "      <td>corresponding</td>\n",
       "      <td>appear</td>\n",
       "    </tr>\n",
       "    <tr>\n",
       "      <th>8</th>\n",
       "      <td>observations</td>\n",
       "      <td>conference</td>\n",
       "      <td>supported</td>\n",
       "      <td>provided</td>\n",
       "      <td>supported</td>\n",
       "      <td>supported</td>\n",
       "      <td>visual</td>\n",
       "      <td>independent</td>\n",
       "      <td>processing</td>\n",
       "      <td>long</td>\n",
       "      <td>...</td>\n",
       "      <td>fixed</td>\n",
       "      <td>current</td>\n",
       "      <td>analysis</td>\n",
       "      <td>introduction</td>\n",
       "      <td>spatial</td>\n",
       "      <td>tr</td>\n",
       "      <td>current</td>\n",
       "      <td>non</td>\n",
       "      <td>table</td>\n",
       "      <td>provided</td>\n",
       "    </tr>\n",
       "    <tr>\n",
       "      <th>9</th>\n",
       "      <td>distribution</td>\n",
       "      <td>york</td>\n",
       "      <td>consists</td>\n",
       "      <td>appear</td>\n",
       "      <td>consists</td>\n",
       "      <td>consists</td>\n",
       "      <td>applications</td>\n",
       "      <td>small</td>\n",
       "      <td>center</td>\n",
       "      <td>supported</td>\n",
       "      <td>...</td>\n",
       "      <td>dimensional</td>\n",
       "      <td>long</td>\n",
       "      <td>efficient</td>\n",
       "      <td>statistical</td>\n",
       "      <td>current</td>\n",
       "      <td>http</td>\n",
       "      <td>provided</td>\n",
       "      <td>small</td>\n",
       "      <td>figures</td>\n",
       "      <td>similarly</td>\n",
       "    </tr>\n",
       "  </tbody>\n",
       "</table>\n",
       "<p>10 rows × 40 columns</p>\n",
       "</div>"
      ],
      "text/plain": [
       "             0           1            2          3            4            5   \\\n",
       "0          data  university   processing         et   processing   processing   \n",
       "1         model       press  computation         al  computation  computation   \n",
       "2    parameters         mit    technical         ii    technical    technical   \n",
       "3        models     science      current         ai      current      current   \n",
       "4       example   cambridge           et   consists           et  recognition   \n",
       "5           set       pages       appear  supported       appear       appear   \n",
       "6       usually          ma           al     center           al           et   \n",
       "7       network  department  recognition  similarly  recognition           al   \n",
       "8  observations  conference    supported   provided    supported    supported   \n",
       "9  distribution        york     consists     appear     consists     consists   \n",
       "\n",
       "             6            7            8          9   ...           30  \\\n",
       "0        neural  information           et         et  ...  information   \n",
       "1       systems        space           al         al  ...          non   \n",
       "2        theory        shows    supported     center  ...        space   \n",
       "3       machine      optimal       appear         ii  ...   components   \n",
       "4          ieee        fixed    technical   consists  ...       higher   \n",
       "5   proceedings         mean     consists    current  ...  experiments   \n",
       "6       journal       matrix  computation         ai  ...         high   \n",
       "7        nature          non     provided  similarly  ...        shows   \n",
       "8        visual  independent   processing       long  ...        fixed   \n",
       "9  applications        small       center  supported  ...  dimensional   \n",
       "\n",
       "          31              32            33           34          35  \\\n",
       "0         et        abstract     different   processing    research   \n",
       "1         al   computational         based     analysis  references   \n",
       "2         ii      statistics           new  computation         edu   \n",
       "3         ai       computing      learning  information   institute   \n",
       "4   consists  implementation           use     multiple          ac   \n",
       "5     center      estimation        simple          low  technology   \n",
       "6  supported           paper       general  recognition       thank   \n",
       "7  similarly    optimization       similar      control         com   \n",
       "8    current        analysis  introduction      spatial          tr   \n",
       "9       long       efficient   statistical      current        http   \n",
       "\n",
       "            36           37             38         39  \n",
       "0   processing  information         figure         et  \n",
       "1           et        space          right         al  \n",
       "2           al      optimal           left  supported  \n",
       "3  computation        shows            fig   consists  \n",
       "4    supported        fixed           plot         ai  \n",
       "5    technical         mean          panel         ii  \n",
       "6       appear       matrix          plots     center  \n",
       "7     consists  independent  corresponding     appear  \n",
       "8      current          non          table   provided  \n",
       "9     provided        small        figures  similarly  \n",
       "\n",
       "[10 rows x 40 columns]"
      ]
     },
     "execution_count": 58,
     "metadata": {},
     "output_type": "execute_result"
    }
   ],
   "source": [
    "word_df"
   ]
  },
  {
   "cell_type": "markdown",
   "metadata": {},
   "source": [
    "### Next steps\n",
    "\n",
    "Now that the functionality of the sHDP is a bit more clear the following steps should be made for easier handling:\n",
    "\n",
    "1. Model to a simple Python class\n",
    "2. Model to have similar interface to other topic models\n",
    "3. More testing with larger datasets\n",
    "4. Compare to the LDA\n",
    "5. Verify the coherence PMI scores."
   ]
  }
 ],
 "metadata": {
  "kernelspec": {
   "display_name": "thesis",
   "language": "python",
   "name": "thesis"
  },
  "language_info": {
   "codemirror_mode": {
    "name": "ipython",
    "version": 3
   },
   "file_extension": ".py",
   "mimetype": "text/x-python",
   "name": "python",
   "nbconvert_exporter": "python",
   "pygments_lexer": "ipython3",
   "version": "3.7.2"
  }
 },
 "nbformat": 4,
 "nbformat_minor": 2
}
