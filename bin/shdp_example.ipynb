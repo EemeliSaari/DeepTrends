{
 "cells": [
  {
   "cell_type": "code",
   "execution_count": null,
   "metadata": {},
   "outputs": [],
   "source": []
  },
  {
   "cell_type": "code",
   "execution_count": 1,
   "metadata": {},
   "outputs": [],
   "source": [
    "%load_ext autoreload\n",
    "%autoreload 2"
   ]
  },
  {
   "cell_type": "code",
   "execution_count": 2,
   "metadata": {},
   "outputs": [],
   "source": [
    "import sys"
   ]
  },
  {
   "cell_type": "code",
   "execution_count": 22,
   "metadata": {},
   "outputs": [],
   "source": [
    "import pandas as pd\n",
    "import numpy as np\n",
    "import matplotlib.pyplot as plt\n",
    "from matplotlib import style"
   ]
  },
  {
   "cell_type": "code",
   "execution_count": 4,
   "metadata": {},
   "outputs": [],
   "source": [
    "style.use('ggplot')"
   ]
  },
  {
   "cell_type": "code",
   "execution_count": 15,
   "metadata": {},
   "outputs": [],
   "source": [
    "sys.path.append('../detector')\n",
    "sys.path.append('../detector/sHDP')"
   ]
  },
  {
   "cell_type": "code",
   "execution_count": 6,
   "metadata": {},
   "outputs": [],
   "source": [
    "from corpora import Corpora"
   ]
  },
  {
   "cell_type": "code",
   "execution_count": 7,
   "metadata": {},
   "outputs": [],
   "source": [
    "data_path = '../data/parsed/'"
   ]
  },
  {
   "cell_type": "code",
   "execution_count": 8,
   "metadata": {},
   "outputs": [
    {
     "data": {
      "text/plain": [
       "<corpora.Corpora at 0x1171b270>"
      ]
     },
     "execution_count": 8,
     "metadata": {},
     "output_type": "execute_result"
    }
   ],
   "source": [
    "corpus = Corpora(data_path=data_path)\n",
    "corpus.build()"
   ]
  },
  {
   "cell_type": "code",
   "execution_count": 9,
   "metadata": {},
   "outputs": [],
   "source": [
    "from pipeline.embeddings import Word2VecWrapper"
   ]
  },
  {
   "cell_type": "code",
   "execution_count": 10,
   "metadata": {},
   "outputs": [
    {
     "name": "stderr",
     "output_type": "stream",
     "text": [
      "WARNING:gensim.models.base_any2vec:consider setting layer size to a multiple of 4 for greater performance\n",
      "WARNING:gensim.models.base_any2vec:Effective 'alpha' higher than previous training cycles\n",
      "WARNING:gensim.models.base_any2vec:Effective 'alpha' higher than previous training cycles\n",
      "WARNING:gensim.models.base_any2vec:Effective 'alpha' higher than previous training cycles\n",
      "WARNING:gensim.models.base_any2vec:Effective 'alpha' higher than previous training cycles\n",
      "WARNING:gensim.models.base_any2vec:Effective 'alpha' higher than previous training cycles\n",
      "WARNING:gensim.models.base_any2vec:Effective 'alpha' higher than previous training cycles\n",
      "WARNING:gensim.models.base_any2vec:Effective 'alpha' higher than previous training cycles\n",
      "WARNING:gensim.models.base_any2vec:Effective 'alpha' higher than previous training cycles\n",
      "WARNING:gensim.models.base_any2vec:Effective 'alpha' higher than previous training cycles\n",
      "WARNING:gensim.models.base_any2vec:Effective 'alpha' higher than previous training cycles\n",
      "WARNING:gensim.models.base_any2vec:Effective 'alpha' higher than previous training cycles\n",
      "WARNING:gensim.models.base_any2vec:Effective 'alpha' higher than previous training cycles\n",
      "WARNING:gensim.models.base_any2vec:Effective 'alpha' higher than previous training cycles\n",
      "WARNING:gensim.models.base_any2vec:Effective 'alpha' higher than previous training cycles\n",
      "WARNING:gensim.models.base_any2vec:Effective 'alpha' higher than previous training cycles\n"
     ]
    },
    {
     "data": {
      "text/plain": [
       "<pipeline.embeddings.Word2VecWrapper at 0x117772f0>"
      ]
     },
     "execution_count": 10,
     "metadata": {},
     "output_type": "execute_result"
    }
   ],
   "source": [
    "embedding_model = Word2VecWrapper(dictionary=corpus.dictionary, size=50, normalize='l2', workers=1)\n",
    "embedding_model.fit(corpus, epochs=50)"
   ]
  },
  {
   "cell_type": "code",
   "execution_count": 11,
   "metadata": {},
   "outputs": [],
   "source": [
    "words = [v for v in corpus.dictionary.values()]"
   ]
  },
  {
   "cell_type": "code",
   "execution_count": 12,
   "metadata": {},
   "outputs": [],
   "source": [
    "vector_map = pd.DataFrame(embedding_model.transform(words).T)"
   ]
  },
  {
   "cell_type": "code",
   "execution_count": 16,
   "metadata": {},
   "outputs": [],
   "source": [
    "from pipeline.topics import SHDPWrapper"
   ]
  },
  {
   "cell_type": "code",
   "execution_count": 17,
   "metadata": {},
   "outputs": [
    {
     "name": "stderr",
     "output_type": "stream",
     "text": [
      "C:\\Users\\eemsaa\\Documents\\GitHub\\KeyTopicDetection\\detector\\sHDP\\core\\util\\stats.py:152: UserWarning: Not sure about sampling vMF, use with caution!!!! \n",
      "  warn('Not sure about sampling vMF, use with caution!!!! ')\n"
     ]
    },
    {
     "name": "stdout",
     "output_type": "stream",
     "text": [
      "Wall time: 615 ms\n"
     ]
    }
   ],
   "source": [
    "%time topic_model = SHDPWrapper(n_topics=40, num_docs=len(corpus)+1, dim=50, vector_map=vector_map)"
   ]
  },
  {
   "cell_type": "code",
   "execution_count": 18,
   "metadata": {},
   "outputs": [
    {
     "name": "stderr",
     "output_type": "stream",
     "text": [
      "../detector/sHDP\\core\\core_distributions.py:184: UserWarning: switching to asymptotic regime for the infinity values !\n",
      "  warn('switching to asymptotic regime for the infinity values !')\n",
      "../detector/sHDP\\core\\core_distributions.py:298: UserWarning: switching to asymptotic  !\n",
      "  warn( \"switching to asymptotic  !\")\n"
     ]
    },
    {
     "name": "stdout",
     "output_type": "stream",
     "text": [
      "Wall time: 1min 6s\n"
     ]
    },
    {
     "data": {
      "text/plain": [
       "<pipeline.topics.SHDPWrapper at 0x1198e790>"
      ]
     },
     "execution_count": 18,
     "metadata": {},
     "output_type": "execute_result"
    }
   ],
   "source": [
    "%time topic_model.fit(corpus.bowize())"
   ]
  },
  {
   "cell_type": "code",
   "execution_count": 19,
   "metadata": {},
   "outputs": [
    {
     "name": "stdout",
     "output_type": "stream",
     "text": [
      "Wall time: 17.5 s\n"
     ]
    },
    {
     "data": {
      "text/plain": [
       "array([[0.01243422, 0.05693705, 0.01361783, ..., 0.06346305, 0.0054277 ,\n",
       "        0.00643855],\n",
       "       [0.01633208, 0.10225354, 0.01546107, ..., 0.09460001, 0.02894536,\n",
       "        0.0066527 ],\n",
       "       [0.01444025, 0.02985586, 0.01487767, ..., 0.05031065, 0.01923558,\n",
       "        0.00641853],\n",
       "       ...,\n",
       "       [0.02347547, 0.0559382 , 0.01381838, ..., 0.05140439, 0.02795677,\n",
       "        0.0083221 ],\n",
       "       [0.02009529, 0.03913318, 0.01487224, ..., 0.06121466, 0.00866038,\n",
       "        0.00654917],\n",
       "       [0.00756547, 0.05140214, 0.01281454, ..., 0.04281388, 0.01999052,\n",
       "        0.01046986]])"
      ]
     },
     "execution_count": 19,
     "metadata": {},
     "output_type": "execute_result"
    }
   ],
   "source": [
    "%time topics = topic_model.transform(corpus.bowize())\n",
    "topics"
   ]
  },
  {
   "cell_type": "code",
   "execution_count": 20,
   "metadata": {
    "scrolled": true
   },
   "outputs": [
    {
     "name": "stdout",
     "output_type": "stream",
     "text": [
      "Wall time: 6.54 s\n",
      "['example', 'signal', 'information', 'non', 'images', 'image', 'applied', 'field', 'ii', 'signals']\n",
      "\n",
      "['abstract', 'university', 'research', 'mit', 'science', 'edu', 'department', 'cambridge', 'report', 'ma']\n",
      "\n",
      "['neural', 'algorithm', 'networks', 'data', 'function', 'approximation', 'functions', 'parameters', 'network', 'weights']\n",
      "\n",
      "['xi', 'denotes', 'xl', 'exp', 'ex', 'li', 'il', 'vi', 'ij', 'xj']\n",
      "\n",
      "['test', 'neural', 'error', 'rate', 'results', 'networks', 'shown', 'training', 'case', 'values']\n",
      "\n",
      "['algorithm', 'neural', 'networks', 'simple', 'error', 'parameters', 'data', 'shown', 'rate', 'case']\n",
      "\n",
      "['single', 'variables', 'random', 'structure', 'consider', 'state', 'probability', 'let', 'problem', 'variable']\n",
      "\n",
      "['note', 'defined', 'assume', 'constant', 'fixed', 'parameter', 'depends', 'according', 'follows', 'true']\n",
      "\n",
      "['step', 'computed', 'gives', 'compute', 'procedure', 'best', 'solution', 'means', 'finding', 'exact']\n",
      "\n",
      "['single', 'variables', 'random', 'structure', 'consider', 'state', 'probability', 'let', 'problem', 'variable']\n",
      "\n",
      "['single', 'variables', 'random', 'structure', 'consider', 'state', 'probability', 'let', 'problem', 'variable']\n",
      "\n",
      "['use', 'given', 'time', 'learning', 'space', 'point', 'information', 'based', 'linear', 'results']\n",
      "\n",
      "['single', 'variables', 'random', 'structure', 'consider', 'state', 'probability', 'let', 'problem', 'variable']\n",
      "\n",
      "['constructed', 'aspects', 'reduction', 'studied', 'conventional', 'reconstruction', 'summary', 'composed', 'analogous', 'applies']\n",
      "\n",
      "['use', 'given', 'time', 'learning', 'space', 'point', 'information', 'based', 'linear', 'results']\n",
      "\n",
      "['corresponding', 'right', 'left', 'respectively', 'average', 'resulting', 'relative', 'determined', 'generated', 'original']\n",
      "\n",
      "['use', 'learning', 'given', 'results', 'information', 'time', 'space', 'based', 'linear', 'point']\n",
      "\n",
      "['learning', 'use', 'given', 'results', 'information', 'time', 'space', 'based', 'large', 'linear']\n",
      "\n",
      "['use', 'given', 'learning', 'time', 'information', 'point', 'space', 'based', 'linear', 'results']\n",
      "\n",
      "['use', 'given', 'learning', 'time', 'space', 'point', 'information', 'based', 'linear', 'results']\n",
      "\n",
      "['use', 'given', 'time', 'learning', 'space', 'point', 'information', 'based', 'linear', 'results']\n",
      "\n",
      "['complex', 'long', 'associated', 'particular', 'represent', 'specific', 'initial', 'inputs', 'learned', 'outputs']\n",
      "\n",
      "['use', 'given', 'time', 'learning', 'space', 'point', 'information', 'based', 'linear', 'results']\n",
      "\n",
      "['figure', 'ability', 'abstract', 'access', 'according', 'account', 'accuracy', 'achieve', 'achieved', 'achieving']\n",
      "\n",
      "['experiments', 'performed', 'performance', 'discussion', 'good', 'cases', 'compared', 'higher', 'experimental', 'low']\n",
      "\n",
      "['single', 'variables', 'random', 'structure', 'consider', 'state', 'probability', 'let', 'problem', 'variable']\n",
      "\n",
      "['use', 'given', 'time', 'learning', 'space', 'point', 'information', 'based', 'linear', 'results']\n",
      "\n",
      "['use', 'given', 'time', 'learning', 'space', 'point', 'information', 'based', 'linear', 'results']\n",
      "\n",
      "['use', 'given', 'learning', 'information', 'time', 'space', 'results', 'based', 'point', 'linear']\n",
      "\n",
      "['single', 'random', 'variables', 'structure', 'consider', 'state', 'probability', 'let', 'problem', 'states']\n",
      "\n",
      "['general', 'possible', 'important', 'way', 'previous', 'fact', 'described', 'instead', 'makes', 'present']\n",
      "\n",
      "['given', 'time', 'point', 'use', 'space', 'based', 'information', 'ii', 'linear', 'example']\n",
      "\n",
      "['single', 'variables', 'random', 'structure', 'consider', 'state', 'probability', 'let', 'problem', 'variable']\n",
      "\n",
      "['single', 'variables', 'random', 'structure', 'consider', 'state', 'probability', 'let', 'problem', 'variable']\n",
      "\n",
      "['use', 'given', 'learning', 'time', 'space', 'point', 'information', 'based', 'linear', 'results']\n",
      "\n",
      "['paper', 'approach', 'methods', 'method', 'statistical', 'problems', 'algorithms', 'efficient', 'proposed', 'applications']\n",
      "\n",
      "['use', 'given', 'time', 'learning', 'space', 'point', 'information', 'based', 'linear', 'results']\n",
      "\n",
      "['references', 'press', 'systems', 'analysis', 'introduction', 'theory', 'processing', 'advances', 'machine', 'ieee']\n",
      "\n",
      "['distribution', 'estimate', 'distributions', 'prior', 'approximate', 'likelihood', 'estimation', 'density', 'assumption', 'bayesian']\n",
      "\n",
      "['single', 'variables', 'random', 'structure', 'consider', 'state', 'probability', 'let', 'problem', 'variable']\n",
      "\n"
     ]
    }
   ],
   "source": [
    "%time words = topic_model.topic_words(n_words=10)\n",
    "for t in words:\n",
    "    print([corpus.dictionary.id2token[i] for i in t])\n",
    "    print()"
   ]
  },
  {
   "cell_type": "code",
   "execution_count": 24,
   "metadata": {},
   "outputs": [
    {
     "data": {
      "image/png": "[encoded data removed]",
      "text/plain": [
       "<Figure size 1440x216 with 1 Axes>"
      ]
     },
     "metadata": {
      "needs_background": "light"
     },
     "output_type": "display_data"
    }
   ],
   "source": [
    "topic_by_doc = topics.sum(axis=0)/len(corpus)\n",
    "fig, ax = plt.subplots(figsize=(20,3))\n",
    "ax.bar(range(topic_model.num_states), topic_by_doc, alpha=0.3)\n",
    "rects = ax.patches\n",
    "for i in np.argsort(topic_by_doc)[-5:]:\n",
    "    rects[i].set_alpha(1)"
   ]
  }
 ],
 "metadata": {
  "kernelspec": {
   "display_name": "thesis",
   "language": "python",
   "name": "thesis"
  },
  "language_info": {
   "codemirror_mode": {
    "name": "ipython",
    "version": 3
   },
   "file_extension": ".py",
   "mimetype": "text/x-python",
   "name": "python",
   "nbconvert_exporter": "python",
   "pygments_lexer": "ipython3",
   "version": "3.7.2"
  }
 },
 "nbformat": 4,
 "nbformat_minor": 2
}
